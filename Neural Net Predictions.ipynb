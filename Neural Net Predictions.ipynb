{
 "cells": [
  {
   "cell_type": "code",
   "execution_count": 1,
   "metadata": {},
   "outputs": [],
   "source": [
    "import pandas as pd\n",
    "import numpy as np\n",
    "from sklearn import preprocessing\n",
    "from datetime import datetime,timedelta\n",
    "from collections import Counter\n",
    "from tqdm import tqdm\n",
    "import glob\n",
    "\n",
    "from sklearn.model_selection import train_test_split\n",
    "import torch\n",
    "import torch.nn as nn\n",
    "import torch.optim as optim\n",
    "\n",
    "import matplotlib.pyplot as plt\n",
    "%matplotlib inline\n",
    "\n",
    "from data_augment import *"
   ]
  },
  {
   "cell_type": "markdown",
   "metadata": {},
   "source": [
    "### Now Doing the training\n",
    "#Focusing on years post 2008"
   ]
  },
  {
   "cell_type": "code",
   "execution_count": 2,
   "metadata": {},
   "outputs": [
    {
     "name": "stdout",
     "output_type": "stream",
     "text": [
      "(62026, 163) (62026, 1)\n"
     ]
    }
   ],
   "source": [
    "data=pd.read_csv(\"Generated Data/atp_data_augmented2.csv\", encoding = \"ISO-8859-1\")\n",
    "num_df = data.iloc[:,2:].copy()\n",
    "Target = np.array(num_df.loc[:,\"Winner\"]).reshape((num_df.shape[0], 1))\n",
    "Data = np.array(num_df.loc[:, [c != \"Winner\" for c in num_df.columns]])\n",
    "print(Data.shape, Target.shape)"
   ]
  },
  {
   "cell_type": "code",
   "execution_count": 3,
   "metadata": {},
   "outputs": [],
   "source": [
    "X_train, X_test, y_train, y_test = train_test_split(Data, Target, test_size=0.25, random_state=42)\n",
    "input_dim = Data.shape[1]\n",
    "\n",
    "X_train = torch.from_numpy(X_train).type(torch.FloatTensor)\n",
    "X_test = torch.from_numpy(X_test).type(torch.FloatTensor)\n",
    "y_train = torch.from_numpy(y_train).type(torch.FloatTensor)\n",
    "y_test = torch.from_numpy(y_test).type(torch.FloatTensor)"
   ]
  },
  {
   "cell_type": "code",
   "execution_count": 4,
   "metadata": {},
   "outputs": [
    {
     "data": {
      "text/plain": [
       "Sequential(\n",
       "  (0): Linear(in_features=163, out_features=512, bias=True)\n",
       "  (1): BatchNorm1d(512, eps=1e-05, momentum=0.1, affine=True, track_running_stats=True)\n",
       "  (2): ReLU()\n",
       "  (3): Dropout(p=0.3, inplace=False)\n",
       "  (4): Linear(in_features=512, out_features=128, bias=True)\n",
       "  (5): BatchNorm1d(128, eps=1e-05, momentum=0.1, affine=True, track_running_stats=True)\n",
       "  (6): ReLU()\n",
       "  (7): Dropout(p=0.3, inplace=False)\n",
       "  (8): Linear(in_features=128, out_features=64, bias=True)\n",
       "  (9): ReLU()\n",
       "  (10): Dropout(p=0.3, inplace=False)\n",
       "  (11): Linear(in_features=64, out_features=1, bias=True)\n",
       "  (12): Sigmoid()\n",
       ")"
      ]
     },
     "execution_count": 4,
     "metadata": {},
     "output_type": "execute_result"
    }
   ],
   "source": [
    "Model = nn.Sequential(nn.Linear(input_dim, 512), nn.BatchNorm1d(512), nn.ReLU(), nn.Dropout(p=0.3),\n",
    "                     nn.Linear(512, 128),nn.BatchNorm1d(128), nn.ReLU(), nn.Dropout(p=0.3),\n",
    "                      nn.Linear(128, 64), nn.ReLU(), nn.Dropout(p=0.3),\n",
    "                     nn.Linear(64, 1), nn.Sigmoid())\n",
    "Model"
   ]
  },
  {
   "cell_type": "code",
   "execution_count": 5,
   "metadata": {},
   "outputs": [],
   "source": [
    "criterion = nn.BCELoss()\n",
    "optimizer = optim.Adam(Model.parameters(), 0.0001)\n",
    "\n",
    "n_epochs = 50\n",
    "batch_size = 40"
   ]
  },
  {
   "cell_type": "code",
   "execution_count": 6,
   "metadata": {},
   "outputs": [],
   "source": [
    "train_set = torch.utils.data.TensorDataset(X_train, y_train)\n",
    "train_loader = torch.utils.data.DataLoader(train_set, shuffle=True, batch_size=batch_size)\n",
    "\n",
    "test_set = torch.utils.data.TensorDataset(X_test, y_test)\n",
    "test_loader = torch.utils.data.DataLoader(test_set, shuffle=False, batch_size=batch_size)\n",
    "\n",
    "save_path = \"trained_models\\mlp_batch.pt\""
   ]
  },
  {
   "cell_type": "code",
   "execution_count": 7,
   "metadata": {},
   "outputs": [
    {
     "name": "stdout",
     "output_type": "stream",
     "text": [
      "Epoch: 1/50 \tTraining Loss: 0.436056 \tTest Loss: 0.239810\tTest Accuracy: 90.216 %\n",
      "Test loss decreased (inf --> 0.239810). Saving model ...\n",
      "Epoch: 2/50 \tTraining Loss: 0.276603 \tTest Loss: 0.192734\tTest Accuracy: 91.901 %\n",
      "Test loss decreased (0.239810 --> 0.192734). Saving model ...\n",
      "Epoch: 3/50 \tTraining Loss: 0.247016 \tTest Loss: 0.174321\tTest Accuracy: 92.842 %\n",
      "Test loss decreased (0.192734 --> 0.174321). Saving model ...\n",
      "Epoch: 4/50 \tTraining Loss: 0.227938 \tTest Loss: 0.165699\tTest Accuracy: 93.219 %\n",
      "Test loss decreased (0.174321 --> 0.165699). Saving model ...\n",
      "Epoch: 5/50 \tTraining Loss: 0.218492 \tTest Loss: 0.157743\tTest Accuracy: 93.402 %\n",
      "Test loss decreased (0.165699 --> 0.157743). Saving model ...\n",
      "Epoch: 6/50 \tTraining Loss: 0.208864 \tTest Loss: 0.153089\tTest Accuracy: 93.657 %\n",
      "Test loss decreased (0.157743 --> 0.153089). Saving model ...\n",
      "Epoch: 7/50 \tTraining Loss: 0.199009 \tTest Loss: 0.148376\tTest Accuracy: 93.689 %\n",
      "Test loss decreased (0.153089 --> 0.148376). Saving model ...\n",
      "Epoch: 8/50 \tTraining Loss: 0.190021 \tTest Loss: 0.142076\tTest Accuracy: 94.146 %\n",
      "Test loss decreased (0.148376 --> 0.142076). Saving model ...\n",
      "Epoch: 9/50 \tTraining Loss: 0.183839 \tTest Loss: 0.142018\tTest Accuracy: 93.969 %\n",
      "Test loss decreased (0.142076 --> 0.142018). Saving model ...\n",
      "Epoch: 10/50 \tTraining Loss: 0.178209 \tTest Loss: 0.137288\tTest Accuracy: 94.320 %\n",
      "Test loss decreased (0.142018 --> 0.137288). Saving model ...\n",
      "Epoch: 11/50 \tTraining Loss: 0.175408 \tTest Loss: 0.133724\tTest Accuracy: 94.369 %\n",
      "Test loss decreased (0.137288 --> 0.133724). Saving model ...\n",
      "Epoch: 12/50 \tTraining Loss: 0.170800 \tTest Loss: 0.132657\tTest Accuracy: 94.291 %\n",
      "Test loss decreased (0.133724 --> 0.132657). Saving model ...\n",
      "Epoch: 13/50 \tTraining Loss: 0.169091 \tTest Loss: 0.129868\tTest Accuracy: 94.369 %\n",
      "Test loss decreased (0.132657 --> 0.129868). Saving model ...\n",
      "Epoch: 14/50 \tTraining Loss: 0.166846 \tTest Loss: 0.131767\tTest Accuracy: 94.317 %\n",
      "Epoch: 15/50 \tTraining Loss: 0.160523 \tTest Loss: 0.126760\tTest Accuracy: 94.594 %\n",
      "Test loss decreased (0.129868 --> 0.126760). Saving model ...\n",
      "Epoch: 16/50 \tTraining Loss: 0.160134 \tTest Loss: 0.126999\tTest Accuracy: 94.514 %\n",
      "Epoch: 17/50 \tTraining Loss: 0.156097 \tTest Loss: 0.123899\tTest Accuracy: 94.716 %\n",
      "Test loss decreased (0.126760 --> 0.123899). Saving model ...\n",
      "Epoch: 18/50 \tTraining Loss: 0.153605 \tTest Loss: 0.122612\tTest Accuracy: 94.813 %\n",
      "Test loss decreased (0.123899 --> 0.122612). Saving model ...\n",
      "Epoch: 19/50 \tTraining Loss: 0.151676 \tTest Loss: 0.122667\tTest Accuracy: 94.717 %\n",
      "Epoch: 20/50 \tTraining Loss: 0.147139 \tTest Loss: 0.120395\tTest Accuracy: 94.742 %\n",
      "Test loss decreased (0.122612 --> 0.120395). Saving model ...\n",
      "Epoch: 21/50 \tTraining Loss: 0.144958 \tTest Loss: 0.117257\tTest Accuracy: 94.742 %\n",
      "Test loss decreased (0.120395 --> 0.117257). Saving model ...\n",
      "Epoch: 22/50 \tTraining Loss: 0.142653 \tTest Loss: 0.119482\tTest Accuracy: 94.781 %\n",
      "Epoch: 23/50 \tTraining Loss: 0.142176 \tTest Loss: 0.117571\tTest Accuracy: 94.878 %\n",
      "Epoch: 24/50 \tTraining Loss: 0.139613 \tTest Loss: 0.116666\tTest Accuracy: 94.974 %\n",
      "Test loss decreased (0.117257 --> 0.116666). Saving model ...\n",
      "Epoch: 25/50 \tTraining Loss: 0.138324 \tTest Loss: 0.115020\tTest Accuracy: 94.723 %\n",
      "Test loss decreased (0.116666 --> 0.115020). Saving model ...\n",
      "Epoch: 26/50 \tTraining Loss: 0.137368 \tTest Loss: 0.113697\tTest Accuracy: 95.013 %\n",
      "Test loss decreased (0.115020 --> 0.113697). Saving model ...\n",
      "Epoch: 27/50 \tTraining Loss: 0.131486 \tTest Loss: 0.113122\tTest Accuracy: 95.071 %\n",
      "Test loss decreased (0.113697 --> 0.113122). Saving model ...\n",
      "Epoch: 28/50 \tTraining Loss: 0.133341 \tTest Loss: 0.112085\tTest Accuracy: 95.013 %\n",
      "Test loss decreased (0.113122 --> 0.112085). Saving model ...\n",
      "Epoch: 29/50 \tTraining Loss: 0.130051 \tTest Loss: 0.114262\tTest Accuracy: 94.949 %\n",
      "Epoch: 30/50 \tTraining Loss: 0.129224 \tTest Loss: 0.112141\tTest Accuracy: 95.090 %\n",
      "Epoch: 31/50 \tTraining Loss: 0.127132 \tTest Loss: 0.111285\tTest Accuracy: 94.994 %\n",
      "Test loss decreased (0.112085 --> 0.111285). Saving model ...\n",
      "Epoch: 32/50 \tTraining Loss: 0.125489 \tTest Loss: 0.110142\tTest Accuracy: 95.007 %\n",
      "Test loss decreased (0.111285 --> 0.110142). Saving model ...\n",
      "Epoch: 33/50 \tTraining Loss: 0.125915 \tTest Loss: 0.108808\tTest Accuracy: 95.174 %\n",
      "Test loss decreased (0.110142 --> 0.108808). Saving model ...\n",
      "Epoch: 34/50 \tTraining Loss: 0.122988 \tTest Loss: 0.110259\tTest Accuracy: 95.103 %\n",
      "Epoch: 35/50 \tTraining Loss: 0.122185 \tTest Loss: 0.111559\tTest Accuracy: 94.974 %\n",
      "Epoch: 36/50 \tTraining Loss: 0.121053 \tTest Loss: 0.108782\tTest Accuracy: 95.110 %\n",
      "Test loss decreased (0.108808 --> 0.108782). Saving model ...\n",
      "Epoch: 37/50 \tTraining Loss: 0.120974 \tTest Loss: 0.108098\tTest Accuracy: 95.245 %\n",
      "Test loss decreased (0.108782 --> 0.108098). Saving model ...\n",
      "Epoch: 38/50 \tTraining Loss: 0.119384 \tTest Loss: 0.111372\tTest Accuracy: 95.168 %\n",
      "Epoch: 39/50 \tTraining Loss: 0.116062 \tTest Loss: 0.105312\tTest Accuracy: 95.251 %\n",
      "Test loss decreased (0.108098 --> 0.105312). Saving model ...\n",
      "Epoch: 40/50 \tTraining Loss: 0.116650 \tTest Loss: 0.108734\tTest Accuracy: 95.129 %\n",
      "Epoch: 41/50 \tTraining Loss: 0.116208 \tTest Loss: 0.109696\tTest Accuracy: 95.110 %\n",
      "Epoch: 42/50 \tTraining Loss: 0.113660 \tTest Loss: 0.110005\tTest Accuracy: 94.949 %\n",
      "Epoch: 43/50 \tTraining Loss: 0.114160 \tTest Loss: 0.105602\tTest Accuracy: 95.219 %\n",
      "Epoch: 44/50 \tTraining Loss: 0.111045 \tTest Loss: 0.106827\tTest Accuracy: 95.174 %\n",
      "Epoch: 45/50 \tTraining Loss: 0.112988 \tTest Loss: 0.107978\tTest Accuracy: 95.122 %\n",
      "Epoch: 46/50 \tTraining Loss: 0.111759 \tTest Loss: 0.104789\tTest Accuracy: 95.245 %\n",
      "Test loss decreased (0.105312 --> 0.104789). Saving model ...\n",
      "Epoch: 47/50 \tTraining Loss: 0.108778 \tTest Loss: 0.106011\tTest Accuracy: 95.148 %\n",
      "Epoch: 48/50 \tTraining Loss: 0.110138 \tTest Loss: 0.105923\tTest Accuracy: 95.103 %\n",
      "Epoch: 49/50 \tTraining Loss: 0.106814 \tTest Loss: 0.106811\tTest Accuracy: 95.174 %\n",
      "Epoch: 50/50 \tTraining Loss: 0.104919 \tTest Loss: 0.103491\tTest Accuracy: 95.258 %\n",
      "Test loss decreased (0.104789 --> 0.103491). Saving model ...\n"
     ]
    },
    {
     "data": {
      "text/plain": [
       "(0.5, 1)"
      ]
     },
     "execution_count": 7,
     "metadata": {},
     "output_type": "execute_result"
    },
    {
     "data": {
      "image/png": "[encoded data removed]",
      "text/plain": [
       "<matplotlib.figure.Figure at 0x1a058d36128>"
      ]
     },
     "metadata": {
      "needs_background": "light"
     },
     "output_type": "display_data"
    }
   ],
   "source": [
    "test_loss_min = np.Inf\n",
    "\n",
    "list_train_loss, list_test_loss, list_accuracy = [], [], []\n",
    "\n",
    "for e in range(n_epochs):\n",
    "    train_loss = 0.0\n",
    "    test_loss = 0.0\n",
    "    accuracy = 0.0\n",
    "    ###################\n",
    "    # train the model #\n",
    "    ###################\n",
    "    Model.train()\n",
    "    for batch_idx, (x, y) in enumerate(train_loader):\n",
    "        optimizer.zero_grad()\n",
    "        y_hat = Model(x)\n",
    "        loss = criterion(y_hat, y)\n",
    "        loss.backward()\n",
    "        optimizer.step()\n",
    "        \n",
    "        train_loss = train_loss + ((1 / (batch_idx + 1)) * (loss.item() - train_loss))\n",
    "        #if (batch_idx+1)%2000==0 or (batch_idx+1)==len(train_loader):\n",
    "        #    print('Current Epoch: {}/{}, Current progress {}/{}, Train Loss: {:.6f}'.format(e+1, n_epochs,\n",
    "        #                                                                                   batch_idx+1, len(train_loader),\n",
    "        #                                                                                  train_loss))\n",
    "    ######################    \n",
    "    # Test the model #\n",
    "    ######################  \n",
    "    Model.eval()\n",
    "    for batch_idx, (x, y) in enumerate(test_loader):\n",
    "        ## update the average validation loss\n",
    "        with torch.no_grad():\n",
    "            y_hat = Model(x)\n",
    "            loss = criterion(y_hat, y)\n",
    "            test_loss += loss.item() \n",
    "            \n",
    "            pred_y_hat = y_hat>0.5\n",
    "            equals = pred_y_hat.type(torch.FloatTensor)==y\n",
    "            accuracy += torch.mean(equals.type(torch.FloatTensor))\n",
    "            \n",
    "    test_loss /= len(test_loader)\n",
    "    accuracy /= len(test_loader)\n",
    "    print('Epoch: {}/{} \\tTraining Loss: {:.6f} \\tTest Loss: {:.6f}\\tTest Accuracy: {:.3f} %'.format(e+1, \n",
    "                                                                                                     n_epochs,\n",
    "                                                                                                     train_loss,\n",
    "                                                                                                     test_loss,\n",
    "                                                                                                     accuracy*100))\n",
    "    \n",
    "     ## TODO: save the model if validation loss has decreased\n",
    "    if test_loss < test_loss_min:\n",
    "        print('Test loss decreased ({:.6f} --> {:.6f}). Saving model ...'.format(test_loss_min, test_loss))\n",
    "        torch.save(Model.state_dict(), save_path)\n",
    "        test_loss_min = test_loss\n",
    "        \n",
    "    list_train_loss +=[train_loss]\n",
    "    list_test_loss += [test_loss]\n",
    "    list_accuracy += [accuracy]\n",
    "    \n",
    "fig = plt.figure(figsize=(20,4))\n",
    "ax = fig.add_subplot(1, 2, 1)\n",
    "ax.plot(np.arange(1, n_epochs+1), list_train_loss,\"--g\", label='Train Loss')\n",
    "ax.plot(np.arange(1, n_epochs+1), list_test_loss, \"-b\", label='Test Loss')\n",
    "plt.xlabel(\"n epochs\")\n",
    "plt.ylabel(\"Loss\")\n",
    "plt.legend()\n",
    "plt.ylim(0,0.4)\n",
    "    \n",
    "ax = fig.add_subplot(1, 2, 2)\n",
    "ax.plot(np.arange(1, n_epochs+1), list_accuracy, \"-b\", label='Accuracy')\n",
    "plt.xlabel(\"n epochs\")\n",
    "plt.ylabel(\"Loss\")\n",
    "plt.legend()\n",
    "plt.ylim(0.5,1)"
   ]
  }
 ],
 "metadata": {
  "kernelspec": {
   "display_name": "Python 3",
   "language": "python",
   "name": "python3"
  },
  "language_info": {
   "codemirror_mode": {
    "name": "ipython",
    "version": 3
   },
   "file_extension": ".py",
   "mimetype": "text/x-python",
   "name": "python",
   "nbconvert_exporter": "python",
   "pygments_lexer": "ipython3",
   "version": "3.5.6"
  }
 },
 "nbformat": 4,
 "nbformat_minor": 4
}
